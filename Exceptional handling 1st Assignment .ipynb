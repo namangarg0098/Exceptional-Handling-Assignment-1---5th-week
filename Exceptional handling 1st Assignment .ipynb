{
 "cells": [
  {
   "cell_type": "markdown",
   "id": "60cb1059-f1cf-41dc-a1b3-b2ddfb940772",
   "metadata": {
    "tags": []
   },
   "source": [
    "Q1 -> What is an Exception in python ? Write the difference between Exceptions and Syntax errors."
   ]
  },
  {
   "cell_type": "code",
   "execution_count": 11,
   "id": "96205f20-9c64-4e87-91dd-32709717d21e",
   "metadata": {},
   "outputs": [],
   "source": [
    "# An Exception is an error that happens during the execution of a program. Whenever there is an error, Python generates an exception that could be handled. \n",
    "# It basically prevents the program from getting crashed"
   ]
  },
  {
   "cell_type": "code",
   "execution_count": 12,
   "id": "bfbd8202-a166-462d-85f7-ba333fd0284e",
   "metadata": {},
   "outputs": [],
   "source": [
    "# An exception is an event, which occurs during the execution of a program that disrupts the normal flow of the program's instructions.\n",
    "# In general, when a Python script encounters a situation that it cannot cope with, it raises an exception. An exception is a Python object that represents an error."
   ]
  },
  {
   "cell_type": "code",
   "execution_count": 13,
   "id": "24fa9942-3b95-44af-91a2-d22c57545c9f",
   "metadata": {},
   "outputs": [],
   "source": [
    "# Errors are the problems in a program due to which the program will stop the execution. On the other hand, exceptions are raised when some internal events occur\n",
    "# which changes the normal flow of the program"
   ]
  },
  {
   "cell_type": "code",
   "execution_count": 14,
   "id": "feff7753-01c0-4e1c-b31e-2a135dd3c8b5",
   "metadata": {},
   "outputs": [],
   "source": [
    "# When the proper syntax of the language is not followed then a syntax error is thrown.\n",
    "# When in the runtime an error that occurs after passing the syntax test is called exception or logical type.\n",
    "# For example, when we divide any number by zero then the ZeroDivisionError exception is raised, or when we import a module that does not exist then ImportError is raised."
   ]
  },
  {
   "cell_type": "markdown",
   "id": "b04c7c75-b9d7-48de-b441-95a1331330b8",
   "metadata": {},
   "source": [
    "Q2 -> What happens when an exception is not handled ? Explain with an example."
   ]
  },
  {
   "cell_type": "code",
   "execution_count": 15,
   "id": "9a71eb12-bcd1-4a74-89da-be1498fcd57e",
   "metadata": {},
   "outputs": [],
   "source": [
    "# AssertionError exceptions can be caught and handled like any other exception using the try-except statement, but if not handled, \n",
    "# they will terminate the program and produce a traceback."
   ]
  },
  {
   "cell_type": "code",
   "execution_count": 16,
   "id": "e5f87920-222d-4694-99bf-11160cfa7ee2",
   "metadata": {},
   "outputs": [],
   "source": [
    "# When an exception occurs, the Python interpreter stops the current process. It is handled by passing through the calling process. If not, the program will crash.\n",
    "# For instance, a Python program has a function X that calls function Y, which in turn calls function Z.12-Nov-2020"
   ]
  },
  {
   "cell_type": "code",
   "execution_count": 7,
   "id": "5ba53b69-b1fc-470b-818e-2d30a23a359a",
   "metadata": {},
   "outputs": [
    {
     "name": "stdout",
     "output_type": "stream",
     "text": [
      "this exception is handled\n"
     ]
    },
    {
     "data": {
      "text/plain": [
       "13.75"
      ]
     },
     "execution_count": 7,
     "metadata": {},
     "output_type": "execute_result"
    }
   ],
   "source": [
    "num = 0\n",
    "try :\n",
    "    54/num                       #   -> here we are handling exceptions by using try and except \n",
    "except :\n",
    "    print('this exception is handled')\n",
    "    \n",
    "55/4     # -> here we are also able to write another codes because our exception is handled by except "
   ]
  },
  {
   "cell_type": "code",
   "execution_count": 8,
   "id": "f6e56155-094c-4e66-90db-a7926b841267",
   "metadata": {},
   "outputs": [
    {
     "ename": "ZeroDivisionError",
     "evalue": "division by zero",
     "output_type": "error",
     "traceback": [
      "\u001b[0;31m---------------------------------------------------------------------------\u001b[0m",
      "\u001b[0;31mZeroDivisionError\u001b[0m                         Traceback (most recent call last)",
      "Cell \u001b[0;32mIn[8], line 3\u001b[0m\n\u001b[1;32m      1\u001b[0m point \u001b[38;5;241m=\u001b[39m \u001b[38;5;241m0\u001b[39m\n\u001b[1;32m      2\u001b[0m                        \u001b[38;5;66;03m# -> here we are not useing try and except for handling exceptions thats why our code is now crashed fully \u001b[39;00m\n\u001b[0;32m----> 3\u001b[0m gain \u001b[38;5;241m=\u001b[39m \u001b[38;5;241;43m77\u001b[39;49m\u001b[38;5;241;43m/\u001b[39;49m\u001b[43mpoint\u001b[49m\n\u001b[1;32m      5\u001b[0m \u001b[38;5;241m55\u001b[39m\u001b[38;5;241m/\u001b[39m\u001b[38;5;241m5\u001b[39m              \u001b[38;5;66;03m# -> here we are not able get solutions of our another codes because we are not handling above exceptions there \u001b[39;00m\n",
      "\u001b[0;31mZeroDivisionError\u001b[0m: division by zero"
     ]
    }
   ],
   "source": [
    "point = 0\n",
    "                       # -> here we are not useing try and except for handling exceptions thats why our code is now crashed fully \n",
    "gain = 77/point\n",
    "\n",
    "55/5              # -> here we are not able get solutions of our another codes because we are not handling above exceptions there "
   ]
  },
  {
   "cell_type": "code",
   "execution_count": null,
   "id": "79f9a09d-da13-4cda-ac80-d14893c8f206",
   "metadata": {},
   "outputs": [],
   "source": []
  },
  {
   "cell_type": "code",
   "execution_count": null,
   "id": "1294570f-3d06-4ede-b7bf-bbf473876525",
   "metadata": {},
   "outputs": [],
   "source": []
  },
  {
   "cell_type": "markdown",
   "id": "ced5be01-1771-48f4-a04b-edf8363f0bcc",
   "metadata": {},
   "source": [
    "Q3 -> Which Python statements are used to catch and handle exceptions ? Explain with an example."
   ]
  },
  {
   "cell_type": "code",
   "execution_count": 17,
   "id": "394c925e-f318-4902-90f4-8330630cc465",
   "metadata": {},
   "outputs": [],
   "source": [
    "# The try and except block in Python is used to catch and handle exceptions. Python executes code following the try statement as a “normal” part of the program."
   ]
  },
  {
   "cell_type": "code",
   "execution_count": 19,
   "id": "c1a2f36e-e923-4cda-bb2b-25faf1160dd6",
   "metadata": {},
   "outputs": [
    {
     "name": "stdout",
     "output_type": "stream",
     "text": [
      "Error: cannot add an int and a str unsupported operand type(s) for +: 'int' and 'str'\n"
     ]
    }
   ],
   "source": [
    "x = 5\n",
    "y = \"hello\"\n",
    "try:\n",
    "\tz = x + y\n",
    "except TypeError as e:\n",
    "\tprint(\"Error: cannot add an int and a str\", e)\n"
   ]
  },
  {
   "cell_type": "code",
   "execution_count": null,
   "id": "1f7076d9-2db8-4877-b544-ac9df212700c",
   "metadata": {},
   "outputs": [],
   "source": []
  },
  {
   "cell_type": "markdown",
   "id": "a3af98f0-d662-4999-b358-bc331b53f75d",
   "metadata": {},
   "source": [
    "Q4 -> Explain with an example :\n",
    "\n",
    "a) try and else \n",
    "\n",
    "b) finally\n",
    "\n",
    "c) raise "
   ]
  },
  {
   "cell_type": "code",
   "execution_count": 22,
   "id": "a6d32532-05fd-438a-90d1-749ab0fa3537",
   "metadata": {},
   "outputs": [
    {
     "name": "stdout",
     "output_type": "stream",
     "text": [
      "Hello\n",
      "Nothing went wrong\n"
     ]
    }
   ],
   "source": [
    "# else block is always executed when try block will execute successfully without any exception \n",
    "#The try block does not raise any errors, so the else block is executed:\n",
    "\n",
    "try:\n",
    "    print(\"Hello\")\n",
    "except:\n",
    "    print(\"Something went wrong\")\n",
    "else:\n",
    "    print(\"Nothing went wrong\")"
   ]
  },
  {
   "cell_type": "code",
   "execution_count": 24,
   "id": "75cc7fd2-2855-4600-bebc-427785371671",
   "metadata": {},
   "outputs": [
    {
     "name": "stdout",
     "output_type": "stream",
     "text": [
      "Can't divide by zero integer division or modulo by zero\n",
      "This is always executed\n"
     ]
    }
   ],
   "source": [
    "# finally block will always executed whether try or except block will run or not finally will always be executed \n",
    "# Python program to demonstrate finally\n",
    "\n",
    "try:\n",
    "\tk = 5//0 # raises divide by zero exception.\n",
    "\tprint(k)\n",
    "\n",
    "# handles zerodivision exception\n",
    "except ZeroDivisionError as e:\n",
    "\tprint(\"Can't divide by zero\", e)\n",
    "\n",
    "finally:\n",
    "\t# this block is always executed\n",
    "\t# regardless of exception generation.\n",
    "\tprint('This is always executed')\n"
   ]
  },
  {
   "cell_type": "code",
   "execution_count": 26,
   "id": "b1e2284f-e12e-41c1-b65a-420fd78d7d8f",
   "metadata": {},
   "outputs": [
    {
     "ename": "Exception",
     "evalue": "you are not suppose to be awarded by A++ Grade",
     "output_type": "error",
     "traceback": [
      "\u001b[0;31m---------------------------------------------------------------------------\u001b[0m",
      "\u001b[0;31mException\u001b[0m                                 Traceback (most recent call last)",
      "Cell \u001b[0;32mIn[26], line 8\u001b[0m\n\u001b[1;32m      5\u001b[0m Naman_marks \u001b[38;5;241m=\u001b[39m \u001b[38;5;241m9\u001b[39m\n\u001b[1;32m      7\u001b[0m \u001b[38;5;28;01mif\u001b[39;00m Naman_marks \u001b[38;5;241m<\u001b[39m \u001b[38;5;241m90\u001b[39m :\n\u001b[0;32m----> 8\u001b[0m     \u001b[38;5;28;01mraise\u001b[39;00m \u001b[38;5;167;01mException\u001b[39;00m(\u001b[38;5;124m'\u001b[39m\u001b[38;5;124myou are not suppose to be awarded by A++ Grade\u001b[39m\u001b[38;5;124m'\u001b[39m)\n",
      "\u001b[0;31mException\u001b[0m: you are not suppose to be awarded by A++ Grade"
     ]
    }
   ],
   "source": [
    "# The raise keyword is used to raise an exception.\n",
    "\n",
    "# You can define what kind of error to raise, and the text to print to the user.\n",
    "\n",
    "Naman_marks = 85\n",
    "\n",
    "if Naman_marks < 90 :\n",
    "    raise Exception('you are not suppose to be awarded by A++ Grade')"
   ]
  },
  {
   "cell_type": "code",
   "execution_count": 27,
   "id": "bbf4e709-d3be-4e0b-906b-8797cf7143c2",
   "metadata": {},
   "outputs": [
    {
     "ename": "Exception",
     "evalue": "Sorry, No number below zero",
     "output_type": "error",
     "traceback": [
      "\u001b[0;31m---------------------------------------------------------------------------\u001b[0m",
      "\u001b[0;31mException\u001b[0m                                 Traceback (most recent call last)",
      "Cell \u001b[0;32mIn[27], line 4\u001b[0m\n\u001b[1;32m      1\u001b[0m x \u001b[38;5;241m=\u001b[39m \u001b[38;5;241m-\u001b[39m\u001b[38;5;241m1\u001b[39m\n\u001b[1;32m      3\u001b[0m \u001b[38;5;28;01mif\u001b[39;00m x \u001b[38;5;241m<\u001b[39m \u001b[38;5;241m0\u001b[39m :\n\u001b[0;32m----> 4\u001b[0m     \u001b[38;5;28;01mraise\u001b[39;00m \u001b[38;5;167;01mException\u001b[39;00m(\u001b[38;5;124m\"\u001b[39m\u001b[38;5;124mSorry, No number below zero\u001b[39m\u001b[38;5;124m\"\u001b[39m)\n",
      "\u001b[0;31mException\u001b[0m: Sorry, No number below zero"
     ]
    }
   ],
   "source": [
    "x = -1\n",
    "\n",
    "if x < 0 :\n",
    "    raise Exception(\"Sorry, No number below zero\")"
   ]
  },
  {
   "cell_type": "code",
   "execution_count": 28,
   "id": "d4c9779a-5d37-4e08-81d6-46e1fd5547e7",
   "metadata": {},
   "outputs": [
    {
     "ename": "TypeError",
     "evalue": "Only integers are allowed",
     "output_type": "error",
     "traceback": [
      "\u001b[0;31m---------------------------------------------------------------------------\u001b[0m",
      "\u001b[0;31mTypeError\u001b[0m                                 Traceback (most recent call last)",
      "Cell \u001b[0;32mIn[28], line 4\u001b[0m\n\u001b[1;32m      1\u001b[0m x \u001b[38;5;241m=\u001b[39m \u001b[38;5;124m\"\u001b[39m\u001b[38;5;124mhello\u001b[39m\u001b[38;5;124m\"\u001b[39m\n\u001b[1;32m      3\u001b[0m \u001b[38;5;28;01mif\u001b[39;00m \u001b[38;5;129;01mnot\u001b[39;00m \u001b[38;5;28mtype\u001b[39m(x) \u001b[38;5;129;01mis\u001b[39;00m \u001b[38;5;28mint\u001b[39m:\n\u001b[0;32m----> 4\u001b[0m     \u001b[38;5;28;01mraise\u001b[39;00m \u001b[38;5;167;01mTypeError\u001b[39;00m(\u001b[38;5;124m\"\u001b[39m\u001b[38;5;124mOnly integers are allowed\u001b[39m\u001b[38;5;124m\"\u001b[39m)\n",
      "\u001b[0;31mTypeError\u001b[0m: Only integers are allowed"
     ]
    }
   ],
   "source": [
    "x = \"hello\"\n",
    "\n",
    "if not type(x) is int:\n",
    "    raise TypeError(\"Only integers are allowed\")"
   ]
  },
  {
   "cell_type": "code",
   "execution_count": null,
   "id": "816801f1-af37-4c07-887c-dc9cd6ad44db",
   "metadata": {},
   "outputs": [],
   "source": []
  },
  {
   "cell_type": "code",
   "execution_count": null,
   "id": "8e89d24f-5e9b-4556-837d-1679190439bc",
   "metadata": {},
   "outputs": [],
   "source": []
  },
  {
   "cell_type": "markdown",
   "id": "3c62addc-0eb8-4468-8fa2-81f867f6fb55",
   "metadata": {},
   "source": [
    "Q5 -> What are Custom Exceptions in python? Why do we need Custom Exceptions? Explain with an example."
   ]
  },
  {
   "cell_type": "code",
   "execution_count": null,
   "id": "9fdf2d45-e462-4668-96a0-c2550d704f5d",
   "metadata": {},
   "outputs": [],
   "source": [
    "# Custom exceptions are user defined Exceptions \n",
    "# Like standard exception classes, custom exceptions are also classes. Hence, you can add functionality to the custom exception classes like: Adding attributes and properties.\n",
    "# Adding methods e.g., log the exception, format the output, etc."
   ]
  },
  {
   "cell_type": "code",
   "execution_count": null,
   "id": "de8013af-a5ac-4057-b2a7-31dc3bb5bda8",
   "metadata": {},
   "outputs": [],
   "source": [
    "# Built-in exceptions offer information about Python-related problems, and custom exceptions will add information about project-related problems.\n",
    "# That way, you can design your code (and traceback, if an exception is raised) in a way that combines Python code with the language of the project."
   ]
  },
  {
   "cell_type": "code",
   "execution_count": 30,
   "id": "d0768c1a-041a-46c7-ac95-6755bf53e8f2",
   "metadata": {},
   "outputs": [
    {
     "name": "stdout",
     "output_type": "stream",
     "text": [
      "A New Exception occurred:  6\n"
     ]
    }
   ],
   "source": [
    "# A python program to create user-defined exception\n",
    "# class MyError is derived from super class Exception\n",
    "class MyError(Exception):\n",
    "\n",
    "\t# Constructor or Initializer\n",
    "\tdef __init__(self, value):\n",
    "\t\tself.value = value\n",
    "\n",
    "\t# __str__ is to print() the value\n",
    "\tdef __str__(self):\n",
    "\t\treturn(repr(self.value))\n",
    "\n",
    "\n",
    "try:\n",
    "\traise(MyError(3*2))\n",
    "\n",
    "# Value of Exception is stored in error\n",
    "except MyError as error:\n",
    "\tprint('A New Exception occurred: ', error.value)\n"
   ]
  },
  {
   "cell_type": "code",
   "execution_count": 33,
   "id": "5831cea1-c861-4c8d-b6f6-89ce7c6bd281",
   "metadata": {},
   "outputs": [
    {
     "name": "stdin",
     "output_type": "stream",
     "text": [
      "Enter your number between postitive integers  -88\n"
     ]
    },
    {
     "name": "stdout",
     "output_type": "stream",
     "text": [
      "your entered number is negative -88\n"
     ]
    }
   ],
   "source": [
    "class neg_error(Exception) :\n",
    "    \n",
    "    def __init__(self, msg):\n",
    "        self.msg = msg \n",
    "        \n",
    "try :\n",
    "    x = int(input('Enter your number between postitive integers '))\n",
    "    if x < 0 :\n",
    "        raise neg_error(x)\n",
    "except neg_error as e :\n",
    "    print(f'your entered number is negative {x}')"
   ]
  },
  {
   "cell_type": "code",
   "execution_count": 34,
   "id": "6d415266-ba12-44e3-a895-f99369eceb12",
   "metadata": {},
   "outputs": [
    {
     "name": "stdin",
     "output_type": "stream",
     "text": [
      "Enter Age: 50\n"
     ]
    },
    {
     "name": "stdout",
     "output_type": "stream",
     "text": [
      "You will get match details soon by email!!!\n"
     ]
    }
   ],
   "source": [
    "class TooYoungException(Exception):\n",
    "    def __init__(self, arg):\n",
    "        self.msg=arg\n",
    "class TooOldException(Exception):\n",
    "    def __init__(self, arg):\n",
    "        self.msg=arg\n",
    "\n",
    "age=int(input(\"Enter Age:\"))\n",
    "if age>60:\n",
    "    raise TooOldException(\"Your age already crossed marriage age...no chance of getting marriage\")\n",
    "elif age<18:\n",
    "    raise TooYoungException(\"Plz wait some more time you will get best match soon!!!\")\n",
    "else:\n",
    "    print(\"You will get match details soon by email!!!\")"
   ]
  },
  {
   "cell_type": "code",
   "execution_count": null,
   "id": "a8b69ee7-8437-4812-8f3f-7cf6c6e53eac",
   "metadata": {},
   "outputs": [],
   "source": []
  },
  {
   "cell_type": "markdown",
   "id": "586a2f35-1536-44dd-9e7c-35d49a57983a",
   "metadata": {},
   "source": [
    "Q6 -> Create a custom exception class. Use this class to handle an exception "
   ]
  },
  {
   "cell_type": "code",
   "execution_count": 35,
   "id": "2a2eb735-b256-4499-85ab-341272466643",
   "metadata": {},
   "outputs": [
    {
     "name": "stdout",
     "output_type": "stream",
     "text": [
      "This is my custom exception\n"
     ]
    }
   ],
   "source": [
    "class CustomException(Exception):\n",
    "    \"\"\" my custom exception class \"\"\"\n",
    "\n",
    "\n",
    "try:\n",
    "    raise CustomException('This is my custom exception')\n",
    "except CustomException as ex:\n",
    "    print(ex)"
   ]
  },
  {
   "cell_type": "code",
   "execution_count": 36,
   "id": "197901c4-c473-4fb9-a24f-574ec3938f32",
   "metadata": {},
   "outputs": [
    {
     "name": "stdout",
     "output_type": "stream",
     "text": [
      "Error: Something went wrong.\n",
      "Error Code: 500\n"
     ]
    }
   ],
   "source": [
    "class CustomException(Exception):\n",
    "    def __init__(self, message, error_code):\n",
    "        self.message = message\n",
    "        self.error_code = error_code\n",
    "\n",
    "try:\n",
    "    raise CustomException(\"Something went wrong.\", 500)\n",
    "except CustomException as e:\n",
    "    print(f\"Error: {e.message}\")\n",
    "    print(f\"Error Code: {e.error_code}\")"
   ]
  },
  {
   "cell_type": "code",
   "execution_count": null,
   "id": "c272d4ed-1426-4528-bb1e-c390f15df8fb",
   "metadata": {},
   "outputs": [],
   "source": []
  },
  {
   "cell_type": "code",
   "execution_count": null,
   "id": "cc1dd85d-5c3c-467b-8be8-cbdf72996a3e",
   "metadata": {},
   "outputs": [],
   "source": []
  },
  {
   "cell_type": "code",
   "execution_count": null,
   "id": "45dc3536-431f-43f9-9bce-7e6c1e36b919",
   "metadata": {},
   "outputs": [],
   "source": []
  },
  {
   "cell_type": "code",
   "execution_count": null,
   "id": "6a3a723a-e423-4514-a847-83cc53b76b81",
   "metadata": {},
   "outputs": [],
   "source": []
  },
  {
   "cell_type": "code",
   "execution_count": null,
   "id": "aaa3e8f0-3d07-4152-a347-836ca9a54e9e",
   "metadata": {},
   "outputs": [],
   "source": []
  },
  {
   "cell_type": "code",
   "execution_count": null,
   "id": "888fcb57-8f0e-41a3-b718-8b443885f6d4",
   "metadata": {},
   "outputs": [],
   "source": []
  },
  {
   "cell_type": "code",
   "execution_count": null,
   "id": "00c6ce40-b99a-4042-beba-5d11455a9559",
   "metadata": {},
   "outputs": [],
   "source": []
  }
 ],
 "metadata": {
  "kernelspec": {
   "display_name": "Python 3 (ipykernel)",
   "language": "python",
   "name": "python3"
  },
  "language_info": {
   "codemirror_mode": {
    "name": "ipython",
    "version": 3
   },
   "file_extension": ".py",
   "mimetype": "text/x-python",
   "name": "python",
   "nbconvert_exporter": "python",
   "pygments_lexer": "ipython3",
   "version": "3.10.8"
  }
 },
 "nbformat": 4,
 "nbformat_minor": 5
}
